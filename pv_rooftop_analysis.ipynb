{
  "nbformat": 4,
  "nbformat_minor": 0,
  "metadata": {
    "colab": {
      "provenance": []
    },
    "kernelspec": {
      "name": "python3",
      "display_name": "Python 3"
    },
    "language_info": {
      "name": "python"
    }
  },
  "cells": [
    {
      "cell_type": "code",
      "source": [
        "import pandas as pd\n",
        "import geopandas as gpd\n",
        "import requests\n",
        "import time\n",
        "from shapely import wkt\n",
        "from sklearn.cluster import KMeans"
      ],
      "metadata": {
        "id": "5BpdnL9GoUgd"
      },
      "execution_count": 1,
      "outputs": []
    },
    {
      "cell_type": "code",
      "source": [
        "import s3fs\n",
        "\n",
        "fs = s3fs.S3FileSystem(anon=True)\n",
        "folder = \"oedi-data-lake/pv-rooftop/buildings/city_year=houston_tx_10/\"\n",
        "files = fs.ls(folder)\n",
        "\n",
        "print(\"Total parquet parts:\", len(files))"
      ],
      "metadata": {
        "colab": {
          "base_uri": "https://localhost:8080/"
        },
        "id": "VOk0L8wGoyab",
        "outputId": "c8fae282-3c0c-474e-b7a3-3b43d0be3c84"
      },
      "execution_count": 3,
      "outputs": [
        {
          "output_type": "stream",
          "name": "stdout",
          "text": [
            "Total parquet parts: 1\n"
          ]
        }
      ]
    },
    {
      "cell_type": "code",
      "source": [
        "path = \"s3://oedi-data-lake/pv-rooftop/buildings/city_year=houston_tx_10/part-00015-647f1a88-3404-4ce7-9c7f-f9e18fcfb3be.c000.snappy.parquet\"\n",
        "\n",
        "df = pd.read_parquet(path, storage_options={'anon':True})\n",
        "print(df.head())\n",
        "print(df.info())"
      ],
      "metadata": {
        "colab": {
          "base_uri": "https://localhost:8080/"
        },
        "id": "zw3izlJK-C_3",
        "outputId": "20a9cd2f-ac0f-4694-a6a7-673bcdd05cfb"
      },
      "execution_count": 4,
      "outputs": [
        {
          "output_type": "stream",
          "name": "stdout",
          "text": [
            "      gid  bldg_fid                                     the_geom_96703  \\\n",
            "0  254037    254037  MULTIPOLYGON(((58273.1102487921 737308.2179886...   \n",
            "1  405914    405914  MULTIPOLYGON(((73418.75181719 739042.850484562...   \n",
            "2  414380    414380  MULTIPOLYGON(((85513.5238488024 741465.1899102...   \n",
            "3   62448     62448  MULTIPOLYGON(((70075.2882147185 731566.4456586...   \n",
            "4  419123    419123  MULTIPOLYGON(((95176.0495016651 743175.6405129...   \n",
            "\n",
            "                                       the_geom_4326     city state  year  \\\n",
            "0  MULTIPOLYGON(((-95.3975163614267 29.7092781585...  Houston    TX  2010   \n",
            "1  MULTIPOLYGON(((-95.2407888074879 29.7239407468...  Houston    TX  2010   \n",
            "2  MULTIPOLYGON(((-95.1154923435336 29.7448384754...  Houston    TX  2010   \n",
            "3  MULTIPOLYGON(((-95.275950665427 29.65675827644...  Houston    TX  2010   \n",
            "4  MULTIPOLYGON(((-95.0153716660416 29.7594030818...  Houston    TX  2010   \n",
            "\n",
            "       city_year  \n",
            "0  houston_tx_10  \n",
            "1  houston_tx_10  \n",
            "2  houston_tx_10  \n",
            "3  houston_tx_10  \n",
            "4  houston_tx_10  \n",
            "<class 'pandas.core.frame.DataFrame'>\n",
            "RangeIndex: 540904 entries, 0 to 540903\n",
            "Data columns (total 8 columns):\n",
            " #   Column          Non-Null Count   Dtype   \n",
            "---  ------          --------------   -----   \n",
            " 0   gid             540904 non-null  int64   \n",
            " 1   bldg_fid        540904 non-null  int64   \n",
            " 2   the_geom_96703  540904 non-null  object  \n",
            " 3   the_geom_4326   540904 non-null  object  \n",
            " 4   city            540904 non-null  object  \n",
            " 5   state           540904 non-null  object  \n",
            " 6   year            540904 non-null  int64   \n",
            " 7   city_year       540904 non-null  category\n",
            "dtypes: category(1), int64(3), object(4)\n",
            "memory usage: 29.4+ MB\n",
            "None\n"
          ]
        }
      ]
    },
    {
      "cell_type": "code",
      "source": [
        "gdf = gpd.GeoDataFrame(df, geometry=df['the_geom_4326'].apply(wkt.loads), crs='EPSG:4326')\n",
        "\n",
        "gdf_meters= gdf.to_crs(epsg=3083) #units in meters\n",
        "gdf['roof_area_m2'] = gdf_meters.geometry.area #area in m^2\n",
        "\n",
        "centroids_meters = gdf_meters.geometry.centroid #calculate centroids in projected crs\n",
        "\n",
        "centroids_gdf = gpd.GeoDataFrame(geometry= centroids_meters, crs=3083).to_crs(epsg= 4326) #convert to lat/lon\n",
        "\n",
        "gdf['lat'] = centroids_gdf.geometry.y\n",
        "gdf['lon'] = centroids_gdf.geometry.x\n",
        "\n",
        "\n",
        "print(gdf[['roof_area_m2','lat','lon']].head())"
      ],
      "metadata": {
        "colab": {
          "base_uri": "https://localhost:8080/"
        },
        "id": "CHpIS6CaqDmA",
        "outputId": "b7a9043a-d9cc-4657-d527-47cbfb7f8524"
      },
      "execution_count": 5,
      "outputs": [
        {
          "output_type": "stream",
          "name": "stdout",
          "text": [
            "    roof_area_m2        lat        lon\n",
            "0  109106.530817  29.706596 -95.398047\n",
            "1   10473.728836  29.723706 -95.240474\n",
            "2    8526.478336  29.743770 -95.114600\n",
            "3   68940.971764  29.654703 -95.276611\n",
            "4   58953.558308  29.756382 -95.013032\n"
          ]
        }
      ]
    },
    {
      "cell_type": "code",
      "source": [
        "# PVGIS API function\n",
        "\n",
        "def get_pvgis(lat,lon, return_type= \"E_y\"):\n",
        "\n",
        "  url= (f\"https://re.jrc.ec.europa.eu/api/v5_2/PVcalc?\"\n",
        "       f\"lat={lat}&lon={lon}&peakpower=1&loss=14&outputformat=json\")\n",
        "  r=requests.get(url).json()\n",
        "\n",
        "  if return_type == \"E_y\":\n",
        "    return r[\"outputs\"][\"totals\"][\"fixed\"][\"E_y\"] #returns specific yield\n",
        "\n",
        "  elif return_type== \"H_y\":\n",
        "    return r[\"outputs\"][\"totals\"][\"fixed\"][\"H_y\"] #returns irradiation\n",
        "\n",
        "  else:\n",
        "    raise ValueError(\"return_type must be either 'E_y' or 'H_y'\")\n"
      ],
      "metadata": {
        "id": "3ofn5t5VsxrX"
      },
      "execution_count": 6,
      "outputs": []
    },
    {
      "cell_type": "code",
      "source": [
        "#Cluster rooftops to reduce API calls\n",
        "\n",
        "coords= gdf[[\"lat\",'lon']].values\n",
        "n_clusters=200\n",
        "kmeans = KMeans(n_clusters=n_clusters, random_state=42, n_init=10)\n",
        "gdf['cluster']= kmeans.fit_predict(coords)"
      ],
      "metadata": {
        "id": "3i6Pz4dmv526"
      },
      "execution_count": 7,
      "outputs": []
    },
    {
      "cell_type": "code",
      "source": [
        "#Fetch irradiation per cluster\n",
        "\n",
        "cluster_results= {}\n",
        "for cluster_id in range(n_clusters):\n",
        "  lat, lon = kmeans.cluster_centers_[cluster_id]\n",
        "\n",
        "  try:\n",
        "    result= get_pvgis(lat,lon, return_type= \"E_y\") #either \"E_y\" or \"H_y\"\n",
        "\n",
        "  except:\n",
        "    result= None\n",
        "\n",
        "  cluster_results[cluster_id] = result\n",
        "  time.sleep(0.3) #Avoid API overload\n",
        "\n",
        "gdf[\"E_y\"] = gdf[\"cluster\"].map(cluster_results) #if return_type = \"E_y\""
      ],
      "metadata": {
        "id": "3fFfrrb6xPgO"
      },
      "execution_count": 8,
      "outputs": []
    },
    {
      "cell_type": "code",
      "source": [
        "#Estimate PV potential per rooftop\n",
        "\n",
        "AREA_PER_KW = 7 #m^2 per 1 kWp\n",
        "ELECTRICITY_PRICE = 0.15 #$/KWh\n",
        "CO2_FACTOR = 0.0004 #tons/KWh\n",
        "\n",
        "def estimate_pv(row):\n",
        "  capacity_kwp = row.roof_area_m2 / AREA_PER_KW #system size\n",
        "  if row.E_y is None:\n",
        "    return None, None\n",
        "  annual_gen = capacity_kwp * row.E_y # total annual generation\n",
        "  return capacity_kwp, annual_gen\n",
        "\n",
        "gdf[\"capacity_kwp\"], gdf[\"annual_kwh\"] = zip(*gdf.apply(estimate_pv, axis=1))"
      ],
      "metadata": {
        "id": "PB2LIRzNCCSE"
      },
      "execution_count": 9,
      "outputs": []
    },
    {
      "cell_type": "code",
      "source": [
        "# Business metrics\n",
        "\n",
        "gdf[\"savings_usd\"] = gdf[\"annual_kwh\"] * ELECTRICITY_PRICE\n",
        "gdf[\"co2_tons\"] = gdf[\"annual_kwh\"] * CO2_FACTOR"
      ],
      "metadata": {
        "id": "wL16yhZqFDVC"
      },
      "execution_count": 10,
      "outputs": []
    },
    {
      "cell_type": "code",
      "source": [
        "#Summary\n",
        "\n",
        "averages = gdf[[\"capacity_kwp\",'annual_kwh','co2_tons','savings_usd']].mean()\n",
        "totals = gdf[['capacity_kwp','annual_kwh','savings_usd','co2_tons']].sum()\n",
        "\n",
        "print('Averages per rooftop:\\n',averages)\n",
        "print ('\\nTotals across Houston:\\n',totals)"
      ],
      "metadata": {
        "colab": {
          "base_uri": "https://localhost:8080/"
        },
        "id": "T0Tx5T_PFc-8",
        "outputId": "971cef2a-4d68-432f-ce47-ecf78a122a93"
      },
      "execution_count": 11,
      "outputs": [
        {
          "output_type": "stream",
          "name": "stdout",
          "text": [
            "Averages per rooftop:\n",
            " capacity_kwp       39.354025\n",
            "annual_kwh      52245.646488\n",
            "co2_tons           20.898259\n",
            "savings_usd      7836.846973\n",
            "dtype: float64\n",
            "\n",
            "Totals across Houston:\n",
            " capacity_kwp    2.128675e+07\n",
            "annual_kwh      2.825988e+10\n",
            "savings_usd     4.238982e+09\n",
            "co2_tons        1.130395e+07\n",
            "dtype: float64\n"
          ]
        }
      ]
    }
  ]
}